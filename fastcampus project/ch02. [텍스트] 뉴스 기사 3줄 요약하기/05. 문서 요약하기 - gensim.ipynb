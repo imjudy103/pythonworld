{
 "cells": [
  {
   "cell_type": "markdown",
   "metadata": {
    "pycharm": {
     "name": "#%% md\n"
    }
   },
   "source": [
    "# **Chapter 2. [텍스트] 뉴스기사 3줄 요약하기**\n",
    "\n",
    "\n",
    "---\n",
    "### 📝 **학습 목차**\n",
    "> 2-1. 프로젝트 개요 <br>\n",
    "> 2-2. 바이너리 파일을 문자열로 변경 - base64 <br>\n",
    "> 2-3. 문자열 다루기 - textwrap, re <br>\n",
    "> 2-4. 단어 개수 구하기 - collections.Counter** <br>\n",
    "> **2-5. 문서 요약하기 - gensim** <br>\n",
    "> 2-6. 텍스트 파일 저장 - open, close <br>\n",
    "> 2-7. 프로젝트 실습"
   ]
  },
  {
   "cell_type": "markdown",
   "metadata": {
    "pycharm": {
     "name": "#%% md\n"
    }
   },
   "source": [
    "## 2-5. 문서 요약하기"
   ]
  },
  {
   "cell_type": "markdown",
   "metadata": {
    "pycharm": {
     "name": "#%% md\n"
    }
   },
   "source": [
    "### 2-5-1. gensim"
   ]
  },
  {
   "cell_type": "markdown",
   "metadata": {
    "pycharm": {
     "name": "#%% md\n"
    }
   },
   "source": [
    "> <img align='left' src='img/gensim_logo.png' width='200' height='200'/> <br> <br> <br> <br>\n",
    ">\n",
    "> ### 자연어 처리, 토픽 모델링에 활발히 사용되는 파이썬 머신러닝 라이브러리\n",
    "> - **`Word2Vec`** 알고리즘을 통한 **자연어의 벡터화 (Word Embedding)** 이 대표적\n",
    ">  <img align='left' src='img/word2vec_exp.png' width='500' height='500'/>"
   ]
  },
  {
   "cell_type": "markdown",
   "metadata": {
    "pycharm": {
     "name": "#%% md\n"
    }
   },
   "source": [
    "> - **`summarization`** 내장 모듈로 **긴 문장을 요약**할 수 있음 ( _gensim 4.x 버전 부터는 요약기능이 지원되지 않음 !_ )\n",
    "> - **gensim 3.7.3 버전**을 사용"
   ]
  },
  {
   "cell_type": "markdown",
   "metadata": {
    "pycharm": {
     "name": "#%% md\n"
    }
   },
   "source": [
    "### Word2Vec 예제"
   ]
  },
  {
   "cell_type": "markdown",
   "metadata": {
    "pycharm": {
     "name": "#%% md\n"
    }
   },
   "source": [
    "- 30+ 개국어 단어 학습 프로젝트 (https://github.com/Kyubyong/wordvectors)\n",
    "- [사전 학습모델 다운로드](https://docs.google.com/uc?export=download&id=0B0ZXk88koS2KbDhXdWg1Q2RydlU)"
   ]
  },
  {
   "cell_type": "code",
   "execution_count": 1,
   "metadata": {
    "pycharm": {
     "name": "#%%\n"
    }
   },
   "outputs": [],
   "source": [
    "import gensim"
   ]
  },
  {
   "cell_type": "code",
   "execution_count": 2,
   "metadata": {
    "pycharm": {
     "name": "#%%\n"
    }
   },
   "outputs": [],
   "source": [
    "# 모델 불러오기\n",
    "model = gensim.models.Word2Vec.load('ko/ko.bin')"
   ]
  },
  {
   "cell_type": "code",
   "execution_count": 3,
   "metadata": {},
   "outputs": [
    {
     "data": {
      "text/plain": [
       "<gensim.models.word2vec.Word2Vec at 0x148299250>"
      ]
     },
     "execution_count": 3,
     "metadata": {},
     "output_type": "execute_result"
    }
   ],
   "source": [
    "model"
   ]
  },
  {
   "cell_type": "code",
   "execution_count": 4,
   "metadata": {
    "pycharm": {
     "name": "#%%\n"
    }
   },
   "outputs": [
    {
     "data": {
      "text/plain": [
       "[('리포트', 0.6553798317909241),\n",
       " ('언론사', 0.6399534940719604),\n",
       " ('앵커', 0.6377939581871033),\n",
       " ('데일리', 0.6316319704055786),\n",
       " ('일간지', 0.6260204315185547),\n",
       " ('투데이', 0.623687744140625),\n",
       " ('토크쇼', 0.593853771686554),\n",
       " ('중앙일보', 0.5876286625862122),\n",
       " ('데스크', 0.5873064398765564),\n",
       " ('한겨레', 0.584434986114502)]"
      ]
     },
     "execution_count": 4,
     "metadata": {},
     "output_type": "execute_result"
    }
   ],
   "source": [
    "# 유사한 단어 검색\n",
    "model.wv.most_similar(\"뉴스\")"
   ]
  },
  {
   "cell_type": "code",
   "execution_count": 7,
   "metadata": {
    "pycharm": {
     "name": "#%%\n"
    }
   },
   "outputs": [
    {
     "data": {
      "text/plain": [
       "-0.019872833"
      ]
     },
     "execution_count": 7,
     "metadata": {},
     "output_type": "execute_result"
    }
   ],
   "source": [
    "# 유사도 검색\n",
    "model.wv.similarity('자동차', '강아지')"
   ]
  },
  {
   "cell_type": "code",
   "execution_count": 8,
   "metadata": {
    "pycharm": {
     "name": "#%%\n"
    }
   },
   "outputs": [
    {
     "data": {
      "text/plain": [
       "0.42055488"
      ]
     },
     "execution_count": 8,
     "metadata": {},
     "output_type": "execute_result"
    }
   ],
   "source": [
    "# 유사도 검색\n",
    "model.wv.similarity('자동차', '버스')"
   ]
  },
  {
   "cell_type": "markdown",
   "metadata": {
    "pycharm": {
     "name": "#%% md\n"
    }
   },
   "source": [
    "### 문서 요약하기"
   ]
  },
  {
   "cell_type": "markdown",
   "metadata": {
    "pycharm": {
     "name": "#%% md\n"
    }
   },
   "source": [
    "- [AI 도서자료 요약 데이터](https://aihub.or.kr/aihubdata/data/view.do?currMenu=115&topMenu=100&aihubDataSe=realm&dataSetSn=93)\n",
    "- [데이터 다운로드 링크](https://docs.google.com/uc?export=download&id=1-FOX-Uo17eG5lV0qop9SWaTuzp7AIYtX)"
   ]
  },
  {
   "cell_type": "code",
   "execution_count": 9,
   "metadata": {
    "pycharm": {
     "name": "#%%\n"
    }
   },
   "outputs": [],
   "source": [
    "from gensim.summarization.summarizer import summarize\n",
    "import pandas as pd\n",
    "import numpy as np"
   ]
  },
  {
   "cell_type": "code",
   "execution_count": 10,
   "metadata": {
    "pycharm": {
     "name": "#%%\n"
    }
   },
   "outputs": [],
   "source": [
    "# 데이터 불러오기\n",
    "df = pd.read_csv('Book_test.csv')\n",
    "df = df.iloc[0:100]\n",
    "df.reset_index(inplace=True)"
   ]
  },
  {
   "cell_type": "code",
   "execution_count": 12,
   "metadata": {
    "pycharm": {
     "name": "#%%\n"
    }
   },
   "outputs": [
    {
     "data": {
      "text/html": [
       "<div>\n",
       "<style scoped>\n",
       "    .dataframe tbody tr th:only-of-type {\n",
       "        vertical-align: middle;\n",
       "    }\n",
       "\n",
       "    .dataframe tbody tr th {\n",
       "        vertical-align: top;\n",
       "    }\n",
       "\n",
       "    .dataframe thead th {\n",
       "        text-align: right;\n",
       "    }\n",
       "</style>\n",
       "<table border=\"1\" class=\"dataframe\">\n",
       "  <thead>\n",
       "    <tr style=\"text-align: right;\">\n",
       "      <th></th>\n",
       "      <th>index</th>\n",
       "      <th>Unnamed: 0</th>\n",
       "      <th>passage</th>\n",
       "      <th>summary</th>\n",
       "    </tr>\n",
       "  </thead>\n",
       "  <tbody>\n",
       "    <tr>\n",
       "      <th>0</th>\n",
       "      <td>0</td>\n",
       "      <td>0</td>\n",
       "      <td>이 장은 후진타오(호금도) 시대가 어떤 과정을 통해 등장했는가를 검토하는 것이다....</td>\n",
       "      <td>후진타오 시대는 제 3세대 지도자가 물러나며 제 4세대 지도자가 새로운 통치 집단...</td>\n",
       "    </tr>\n",
       "    <tr>\n",
       "      <th>1</th>\n",
       "      <td>1</td>\n",
       "      <td>1</td>\n",
       "      <td>한편 사영기업가의 입당허용이 단기간에 중국정치에 변화를 몰고 올 것 같지는 않다....</td>\n",
       "      <td>사영기업가 계층은 국가의 통제를 아직 벗어나지 못했다는 등의 이유로 단기간에 중국...</td>\n",
       "    </tr>\n",
       "    <tr>\n",
       "      <th>2</th>\n",
       "      <td>2</td>\n",
       "      <td>2</td>\n",
       "      <td>그런데 제 16차 당 대회에서는 민족주의를 강조하는 경향이 이전보다 더욱 두드러졌...</td>\n",
       "      <td>공산당이 국민정당에 대해 민족정당이 된 것, 정치보고에 민족정신 등에 대한 강조가...</td>\n",
       "    </tr>\n",
       "    <tr>\n",
       "      <th>3</th>\n",
       "      <td>3</td>\n",
       "      <td>3</td>\n",
       "      <td>2.3.2 제10기 전국인민대표대회 제 1차 회의(2003년)\\n 2003년 3월 ...</td>\n",
       "      <td>2003년의 10기 전국인대 1차 회의는 주요 국가지도자에 대한 인선이 있었고 공...</td>\n",
       "    </tr>\n",
       "    <tr>\n",
       "      <th>4</th>\n",
       "      <td>4</td>\n",
       "      <td>4</td>\n",
       "      <td>1) 인선에 대한 총괄평가\\n 제 10기 전국인대 제 1차 회의에서 선출(비준)된...</td>\n",
       "      <td>10기 전국인대 1차 회의는 완전하고 실질적인 권력이양이 이루어지지 않았다. 이에...</td>\n",
       "    </tr>\n",
       "  </tbody>\n",
       "</table>\n",
       "</div>"
      ],
      "text/plain": [
       "   index  Unnamed: 0                                            passage  \\\n",
       "0      0           0   이 장은 후진타오(호금도) 시대가 어떤 과정을 통해 등장했는가를 검토하는 것이다....   \n",
       "1      1           1   한편 사영기업가의 입당허용이 단기간에 중국정치에 변화를 몰고 올 것 같지는 않다....   \n",
       "2      2           2   그런데 제 16차 당 대회에서는 민족주의를 강조하는 경향이 이전보다 더욱 두드러졌...   \n",
       "3      3           3  2.3.2 제10기 전국인민대표대회 제 1차 회의(2003년)\\n 2003년 3월 ...   \n",
       "4      4           4   1) 인선에 대한 총괄평가\\n 제 10기 전국인대 제 1차 회의에서 선출(비준)된...   \n",
       "\n",
       "                                             summary  \n",
       "0   후진타오 시대는 제 3세대 지도자가 물러나며 제 4세대 지도자가 새로운 통치 집단...  \n",
       "1   사영기업가 계층은 국가의 통제를 아직 벗어나지 못했다는 등의 이유로 단기간에 중국...  \n",
       "2   공산당이 국민정당에 대해 민족정당이 된 것, 정치보고에 민족정신 등에 대한 강조가...  \n",
       "3   2003년의 10기 전국인대 1차 회의는 주요 국가지도자에 대한 인선이 있었고 공...  \n",
       "4   10기 전국인대 1차 회의는 완전하고 실질적인 권력이양이 이루어지지 않았다. 이에...  "
      ]
     },
     "execution_count": 12,
     "metadata": {},
     "output_type": "execute_result"
    }
   ],
   "source": [
    "df.head()"
   ]
  },
  {
   "cell_type": "code",
   "execution_count": 13,
   "metadata": {
    "pycharm": {
     "name": "#%%\n"
    },
    "scrolled": true
   },
   "outputs": [
    {
     "data": {
      "text/plain": [
       "' 이 장은 후진타오(호금도) 시대가 어떤 과정을 통해 등장했는가를 검토하는 것이다. 이를 위해 여기서는 2002년 11월 개최된 중국공산당 제 16차 전국대표대회(당 대회)와 2003년 3월 개최된 제 10기 전국인민대표대회(전국인대) 제 1차 회의를 분석할 것이다. 후진타오 시대는 이 두 대회를 시작으로 2004년 9월 공산당 제 16기 중앙위원회 4차 전체회의(4중전회)까지 약 2년의 긴 과정을 거쳐 형성되었다. 우선, 이 기간 동안 장쩌민(장택민), 리펑(이붕), 주룽지(주용기)로 대표되는 제 3세대 지도자가 물러나고, 후진타오, 원자바오(온가보), 쩡칭홍(증경홍)으로 대표되는 제 4세대 지도자가 새로운 통치 집단으로 등장했다. 또한, 이 기간 동안 후진타오 시대의 중국이 실시할 국가정책의 방침과 내용이 서서히 모습을 드러냈다. 따라서 후진타오 시대의 등장과정을 이해하기 위해서는 16차 당 대회와 10기 전국인대 1차 회의에 대한 분석이 필수적이다.\\n 그런데 제 3세대에서 제 4세대로의 권력이양은 결코 순탄하지 않았다. 장쩌민이 2002년 16차 당 대회에서 후진타오에게 총서기직을 물려준 다음에도 2004년 공산당 제 16기 4중전회까지 약 2년 동안 중앙군사위원회 주석직을 유지했다는 사실은 이를 상징적으로 보여준다. 따라서 이 기간은 장쩌민 시대와 후진타오 시대가 공존하는 일종의 과도기라고 할 수 있다. 또한 이 기간은 후진타오와 원자바오가 장쩌민 세력에 맞서 자신의 권력기반을 공고히 하는 한편 장쩌민 시대의 유산을 정리하면서 국민들에게 자신의 새로운 비전을 제시하는 탐색기였다고 말할 수 있다.'"
      ]
     },
     "execution_count": 13,
     "metadata": {},
     "output_type": "execute_result"
    }
   ],
   "source": [
    "df.loc[0,'passage']"
   ]
  },
  {
   "cell_type": "code",
   "execution_count": 14,
   "metadata": {},
   "outputs": [
    {
     "data": {
      "text/plain": [
       "' 후진타오 시대는 제 3세대 지도자가 물러나며 제 4세대 지도자가 새로운 통치 집단이 되었고 국가정책 방침과 내용이 모습을 드러냈다. 장쩌민이 후진타오에게 총서기직을 물려준 후에도 약 2년 동안 중앙군사위원회 주석직을 유지한 것은 제 3세대에서 제 4세대로의 순탄치 않은 권력이양을 보여준다. 이 시기는 장쩌민 시대와 후진타오 시대가 공존하는 과도기이며 후진타오와 원자바오가 자신의 새로운 비전을 제시하는 탐색기였다.'"
      ]
     },
     "execution_count": 14,
     "metadata": {},
     "output_type": "execute_result"
    }
   ],
   "source": [
    "df.loc[0,'summary']"
   ]
  },
  {
   "cell_type": "code",
   "execution_count": 15,
   "metadata": {
    "pycharm": {
     "name": "#%%\n"
    }
   },
   "outputs": [
    {
     "data": {
      "text/plain": [
       "'이 장은 후진타오(호금도) 시대가 어떤 과정을 통해 등장했는가를 검토하는 것이다.\\n따라서 이 기간은 장쩌민 시대와 후진타오 시대가 공존하는 일종의 과도기라고 할 수 있다.'"
      ]
     },
     "execution_count": 15,
     "metadata": {},
     "output_type": "execute_result"
    }
   ],
   "source": [
    "# 첫번째 데이터 요약\n",
    "summarize(df.loc[0,'passage'])"
   ]
  },
  {
   "cell_type": "code",
   "execution_count": 20,
   "metadata": {
    "pycharm": {
     "name": "#%%\n"
    }
   },
   "outputs": [
    {
     "data": {
      "text/plain": [
       "'이 장은 후진타오(호금도) 시대가 어떤 과정을 통해 등장했는가를 검토하는 것이다.\\n후진타오 시대는 이 두 대회를 시작으로 2004년 9월 공산당 제 16기 중앙위원회 4차 전체회의(4중전회)까지 약 2년의 긴 과정을 거쳐 형성되었다.\\n따라서 후진타오 시대의 등장과정을 이해하기 위해서는 16차 당 대회와 10기 전국인대 1차 회의에 대한 분석이 필수적이다.\\n따라서 이 기간은 장쩌민 시대와 후진타오 시대가 공존하는 일종의 과도기라고 할 수 있다.'"
      ]
     },
     "execution_count": 20,
     "metadata": {},
     "output_type": "execute_result"
    }
   ],
   "source": [
    "# 첫번째 데이터 요약\n",
    "summarize(df.loc[0,'passage'], ratio=0.4)"
   ]
  },
  {
   "cell_type": "code",
   "execution_count": 17,
   "metadata": {
    "pycharm": {
     "name": "#%%\n"
    }
   },
   "outputs": [],
   "source": [
    "# 전체 데이터 적용\n",
    "df['extract'] = df.passage.apply(lambda x : summarize(x, ratio=0.4))"
   ]
  },
  {
   "cell_type": "code",
   "execution_count": 21,
   "metadata": {
    "pycharm": {
     "name": "#%%\n"
    }
   },
   "outputs": [
    {
     "data": {
      "text/html": [
       "<div>\n",
       "<style scoped>\n",
       "    .dataframe tbody tr th:only-of-type {\n",
       "        vertical-align: middle;\n",
       "    }\n",
       "\n",
       "    .dataframe tbody tr th {\n",
       "        vertical-align: top;\n",
       "    }\n",
       "\n",
       "    .dataframe thead th {\n",
       "        text-align: right;\n",
       "    }\n",
       "</style>\n",
       "<table border=\"1\" class=\"dataframe\">\n",
       "  <thead>\n",
       "    <tr style=\"text-align: right;\">\n",
       "      <th></th>\n",
       "      <th>index</th>\n",
       "      <th>Unnamed: 0</th>\n",
       "      <th>passage</th>\n",
       "      <th>summary</th>\n",
       "      <th>extract</th>\n",
       "    </tr>\n",
       "  </thead>\n",
       "  <tbody>\n",
       "    <tr>\n",
       "      <th>0</th>\n",
       "      <td>0</td>\n",
       "      <td>0</td>\n",
       "      <td>이 장은 후진타오(호금도) 시대가 어떤 과정을 통해 등장했는가를 검토하는 것이다....</td>\n",
       "      <td>후진타오 시대는 제 3세대 지도자가 물러나며 제 4세대 지도자가 새로운 통치 집단...</td>\n",
       "      <td>이 장은 후진타오(호금도) 시대가 어떤 과정을 통해 등장했는가를 검토하는 것이다.\\...</td>\n",
       "    </tr>\n",
       "    <tr>\n",
       "      <th>1</th>\n",
       "      <td>1</td>\n",
       "      <td>1</td>\n",
       "      <td>한편 사영기업가의 입당허용이 단기간에 중국정치에 변화를 몰고 올 것 같지는 않다....</td>\n",
       "      <td>사영기업가 계층은 국가의 통제를 아직 벗어나지 못했다는 등의 이유로 단기간에 중국...</td>\n",
       "      <td>그러나 장기적으로 볼 때 사영기업가 계층의 정치적 복권은 정치변화와 관련해 큰 의미...</td>\n",
       "    </tr>\n",
       "    <tr>\n",
       "      <th>2</th>\n",
       "      <td>2</td>\n",
       "      <td>2</td>\n",
       "      <td>그런데 제 16차 당 대회에서는 민족주의를 강조하는 경향이 이전보다 더욱 두드러졌...</td>\n",
       "      <td>공산당이 국민정당에 대해 민족정당이 된 것, 정치보고에 민족정신 등에 대한 강조가...</td>\n",
       "      <td>예를 들어, 앞에서 보았듯이 “당헌” 개정에 의해 공산당이 ‘중화민족의 선봉대’로 ...</td>\n",
       "    </tr>\n",
       "    <tr>\n",
       "      <th>3</th>\n",
       "      <td>3</td>\n",
       "      <td>3</td>\n",
       "      <td>2.3.2 제10기 전국인민대표대회 제 1차 회의(2003년)\\n 2003년 3월 ...</td>\n",
       "      <td>2003년의 10기 전국인대 1차 회의는 주요 국가지도자에 대한 인선이 있었고 공...</td>\n",
       "      <td>또한 제 10기 전국인대 첫 번째 회의는 5년 임기의 제 10기 전국인대가 시작하는...</td>\n",
       "    </tr>\n",
       "    <tr>\n",
       "      <th>4</th>\n",
       "      <td>4</td>\n",
       "      <td>4</td>\n",
       "      <td>1) 인선에 대한 총괄평가\\n 제 10기 전국인대 제 1차 회의에서 선출(비준)된...</td>\n",
       "      <td>10기 전국인대 1차 회의는 완전하고 실질적인 권력이양이 이루어지지 않았다. 이에...</td>\n",
       "      <td>제 10기 전국인대 제 1차 회의에서 선출(비준)된 인사들의 구성과 성격에 대해서는...</td>\n",
       "    </tr>\n",
       "  </tbody>\n",
       "</table>\n",
       "</div>"
      ],
      "text/plain": [
       "   index  Unnamed: 0                                            passage  \\\n",
       "0      0           0   이 장은 후진타오(호금도) 시대가 어떤 과정을 통해 등장했는가를 검토하는 것이다....   \n",
       "1      1           1   한편 사영기업가의 입당허용이 단기간에 중국정치에 변화를 몰고 올 것 같지는 않다....   \n",
       "2      2           2   그런데 제 16차 당 대회에서는 민족주의를 강조하는 경향이 이전보다 더욱 두드러졌...   \n",
       "3      3           3  2.3.2 제10기 전국인민대표대회 제 1차 회의(2003년)\\n 2003년 3월 ...   \n",
       "4      4           4   1) 인선에 대한 총괄평가\\n 제 10기 전국인대 제 1차 회의에서 선출(비준)된...   \n",
       "\n",
       "                                             summary  \\\n",
       "0   후진타오 시대는 제 3세대 지도자가 물러나며 제 4세대 지도자가 새로운 통치 집단...   \n",
       "1   사영기업가 계층은 국가의 통제를 아직 벗어나지 못했다는 등의 이유로 단기간에 중국...   \n",
       "2   공산당이 국민정당에 대해 민족정당이 된 것, 정치보고에 민족정신 등에 대한 강조가...   \n",
       "3   2003년의 10기 전국인대 1차 회의는 주요 국가지도자에 대한 인선이 있었고 공...   \n",
       "4   10기 전국인대 1차 회의는 완전하고 실질적인 권력이양이 이루어지지 않았다. 이에...   \n",
       "\n",
       "                                             extract  \n",
       "0  이 장은 후진타오(호금도) 시대가 어떤 과정을 통해 등장했는가를 검토하는 것이다.\\...  \n",
       "1  그러나 장기적으로 볼 때 사영기업가 계층의 정치적 복권은 정치변화와 관련해 큰 의미...  \n",
       "2  예를 들어, 앞에서 보았듯이 “당헌” 개정에 의해 공산당이 ‘중화민족의 선봉대’로 ...  \n",
       "3  또한 제 10기 전국인대 첫 번째 회의는 5년 임기의 제 10기 전국인대가 시작하는...  \n",
       "4  제 10기 전국인대 제 1차 회의에서 선출(비준)된 인사들의 구성과 성격에 대해서는...  "
      ]
     },
     "execution_count": 21,
     "metadata": {},
     "output_type": "execute_result"
    }
   ],
   "source": [
    "df.head()"
   ]
  },
  {
   "cell_type": "code",
   "execution_count": 50,
   "metadata": {
    "pycharm": {
     "name": "#%%\n"
    }
   },
   "outputs": [
    {
     "name": "stdout",
     "output_type": "stream",
     "text": [
      "========================================================================================================================\n",
      "41 번째 문장 \n",
      "\n",
      "원문: \n",
      "\n",
      "3.7.1 중국 외교전략의 기본특징\n",
      " 1) 현실주의\n",
      " 전통적으로 중국은 현실주의 관점에서 국제정치를 바라본다. 그래서 국가가 국제관계의 주체이며 국익추구가 외교의 최우선 과제로 간주된다. 중국에서 무엇이 국익인가에 대해서는 논자마다 조금씩 다르지만, 일반적으로 주권 및 영토보전, 국가통일, 사회주의 제도와 이데올로기 유지, 민족통합, 경제이익 증대, 국제적 영향력 확대가 국익의 핵심요소로 제기된다. 또한 같은 맥락에서 중국은 권력정치(power politics)를 중시한다. 국제사회에서 한 국가가 차지하는 지위는 그 국가의 종합국력에 의해 결정된다는 것이다. 그래서 국제적 지위를 높이기 위해서는 종합국력을 증강시켜야 한다. 이처럼 국력을 중시하는 것은, 19세기 중엽에서 20세기 중엽까지 제국주의의 침략을 받은 중국의 역사적 경험, 즉 ‘굴욕의 일세기’(백년국치)에서 기인한 것이다.\n",
      "\n",
      "\n",
      "AI 요약: \n",
      "\n",
      " 중국은 국제정치를 현실주의 관점에서 바라봐 국제관계의 주체는 국가, 외교의 최우선 과제는 국익추구로 간주된다. 논자마다 국익에 대한 생각은 다르다. 중국은 권력정치를 중시해 국제적 지위를 높이기 위한 종합국력 증강을 중시한다.\n",
      "\n",
      "\n",
      "Gensim 요약: \n",
      "\n",
      "전통적으로 중국은 현실주의 관점에서 국제정치를 바라본다.\n",
      "그래서 국가가 국제관계의 주체이며 국익추구가 외교의 최우선 과제로 간주된다.\n",
      "그래서 국제적 지위를 높이기 위해서는 종합국력을 증강시켜야 한다.\n",
      "\n",
      "\n"
     ]
    }
   ],
   "source": [
    "# 시각화\n",
    "for i in range(0,1):\n",
    "    random_number = np.random.randint(0, 100, size=1)\n",
    "    print(\"=\"*120)\n",
    "    print(f'{random_number[0]}' + ' 번째 문장 \\n')\n",
    "    print('원문: \\n\\n' + df['passage'][random_number[0]] + '\\n\\n')\n",
    "    print('AI 요약: \\n\\n' + df['summary'][random_number[0]] + '\\n\\n')\n",
    "    print('Gensim 요약: \\n\\n'+ df['extract'][random_number[0]] + '\\n\\n')"
   ]
  },
  {
   "cell_type": "code",
   "execution_count": null,
   "metadata": {
    "pycharm": {
     "name": "#%%\n"
    }
   },
   "outputs": [],
   "source": []
  },
  {
   "cell_type": "code",
   "execution_count": null,
   "metadata": {},
   "outputs": [],
   "source": []
  }
 ],
 "metadata": {
  "kernelspec": {
   "display_name": "PythonProject1",
   "language": "python",
   "name": "pythonproject1"
  },
  "language_info": {
   "codemirror_mode": {
    "name": "ipython",
    "version": 3
   },
   "file_extension": ".py",
   "mimetype": "text/x-python",
   "name": "python",
   "nbconvert_exporter": "python",
   "pygments_lexer": "ipython3",
   "version": "3.9.20"
  }
 },
 "nbformat": 4,
 "nbformat_minor": 4
}
